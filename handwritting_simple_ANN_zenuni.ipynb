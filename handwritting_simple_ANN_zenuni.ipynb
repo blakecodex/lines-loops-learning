{
 "cells": [
  {
   "cell_type": "markdown",
   "id": "5b433f1a",
   "metadata": {},
   "source": [
    "## Digit Recognition Demo Notebook\n",
    "\n",
    "##### Author: Blake Zenuni\n",
    "\n",
    "For demonstration purposes only, inspired by the Oxford AI Programme 2025 (which I highly recommend!) -- no copyright materials or modules are shared.\n",
    "\n",
    "This notebook demonstrates a simple artificial neural network (ANN) built to recognise handwritten digits using a standard dataset.\n",
    "\n",
    "Challenges discussed in the accompanying essay are drawn from my own handwriting; the implementation here uses publicly available data for reproducibility and technical demonstration.\n",
    "\n",
    "---"
   ]
  },
  {
   "cell_type": "code",
   "execution_count": 2,
   "id": "7d99934a",
   "metadata": {},
   "outputs": [
    {
     "name": "stdout",
     "output_type": "stream",
     "text": [
      "Data shape: (1797, 64)\n",
      "Target shape: (1797,)\n"
     ]
    },
    {
     "data": {
      "image/png": "[encoded data removed]",
      "text/plain": [
       "<Figure size 720x216 with 6 Axes>"
      ]
     },
     "metadata": {
      "needs_background": "light"
     },
     "output_type": "display_data"
    }
   ],
   "source": [
    "# load and visualise sample digits\n",
    "from sklearn.datasets import load_digits\n",
    "import matplotlib.pyplot as plt\n",
    "\n",
    "digits = load_digits()\n",
    "\n",
    "# see dataset shape\n",
    "print(f\"Data shape: {digits.data.shape}\")\n",
    "print(f\"Target shape: {digits.target.shape}\")\n",
    "\n",
    "# plotting first 6 images\n",
    "fig, axes = plt.subplots(1, 6, figsize=(10, 3))\n",
    "for i, ax in enumerate(axes):\n",
    "    ax.imshow(digits.images[i], cmap='gray')\n",
    "    ax.set_title(f\"Label: {digits.target[i]}\")\n",
    "    ax.axis('off')\n",
    "plt.tight_layout()\n",
    "plt.show()"
   ]
  },
  {
   "cell_type": "code",
   "execution_count": null,
   "id": "7e397e21",
   "metadata": {},
   "outputs": [],
   "source": []
  }
 ],
 "metadata": {
  "kernelspec": {
   "display_name": "base",
   "language": "python",
   "name": "python3"
  },
  "language_info": {
   "codemirror_mode": {
    "name": "ipython",
    "version": 3
   },
   "file_extension": ".py",
   "mimetype": "text/x-python",
   "name": "python",
   "nbconvert_exporter": "python",
   "pygments_lexer": "ipython3",
   "version": "3.9.7"
  }
 },
 "nbformat": 4,
 "nbformat_minor": 5
}
